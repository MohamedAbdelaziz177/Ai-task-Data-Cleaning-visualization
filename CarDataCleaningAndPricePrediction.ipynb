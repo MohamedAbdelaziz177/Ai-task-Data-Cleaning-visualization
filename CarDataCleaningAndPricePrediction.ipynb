{
 "cells": [
  {
   "cell_type": "code",
   "id": "initial_id",
   "metadata": {
    "collapsed": true,
    "ExecuteTime": {
     "end_time": "2024-11-12T15:13:55.164640Z",
     "start_time": "2024-11-12T15:13:44.605751Z"
    }
   },
   "source": [
    "import pandas as pd\n",
    "import numpy as np"
   ],
   "outputs": [],
   "execution_count": 3
  },
  {
   "metadata": {
    "ExecuteTime": {
     "end_time": "2024-11-12T15:14:42.426651Z",
     "start_time": "2024-11-12T15:14:42.369957Z"
    }
   },
   "cell_type": "code",
   "source": [
    "cars = pd.read_csv(r\"F:\\PythonPoj\\CarsDatasetCleaning\\pythonProject1\\Car details v3.csv\" , index_col=0)\n",
    "print(cars.head(5));"
   ],
   "id": "f25afb54952b47b5",
   "outputs": [
    {
     "name": "stdout",
     "output_type": "stream",
     "text": [
      "                              year  selling_price  km_driven    fuel  \\\n",
      "name                                                                   \n",
      "Maruti Swift Dzire VDI        2014         450000     145500  Diesel   \n",
      "Skoda Rapid 1.5 TDI Ambition  2014         370000     120000  Diesel   \n",
      "Honda City 2017-2020 EXi      2006         158000     140000  Petrol   \n",
      "Hyundai i20 Sportz Diesel     2010         225000     127000  Diesel   \n",
      "Maruti Swift VXI BSIII        2007         130000     120000  Petrol   \n",
      "\n",
      "                             seller_type transmission         owner  \\\n",
      "name                                                                  \n",
      "Maruti Swift Dzire VDI        Individual       Manual   First Owner   \n",
      "Skoda Rapid 1.5 TDI Ambition  Individual       Manual  Second Owner   \n",
      "Honda City 2017-2020 EXi      Individual       Manual   Third Owner   \n",
      "Hyundai i20 Sportz Diesel     Individual       Manual   First Owner   \n",
      "Maruti Swift VXI BSIII        Individual       Manual   First Owner   \n",
      "\n",
      "                                 mileage   engine   max_power  \\\n",
      "name                                                            \n",
      "Maruti Swift Dzire VDI         23.4 kmpl  1248 CC      74 bhp   \n",
      "Skoda Rapid 1.5 TDI Ambition  21.14 kmpl  1498 CC  103.52 bhp   \n",
      "Honda City 2017-2020 EXi       17.7 kmpl  1497 CC      78 bhp   \n",
      "Hyundai i20 Sportz Diesel      23.0 kmpl  1396 CC      90 bhp   \n",
      "Maruti Swift VXI BSIII         16.1 kmpl  1298 CC    88.2 bhp   \n",
      "\n",
      "                                                torque  seats  \n",
      "name                                                           \n",
      "Maruti Swift Dzire VDI                  190Nm@ 2000rpm    5.0  \n",
      "Skoda Rapid 1.5 TDI Ambition       250Nm@ 1500-2500rpm    5.0  \n",
      "Honda City 2017-2020 EXi         12.7@ 2,700(kgm@ rpm)    5.0  \n",
      "Hyundai i20 Sportz Diesel     22.4 kgm at 1750-2750rpm    5.0  \n",
      "Maruti Swift VXI BSIII           11.5@ 4,500(kgm@ rpm)    5.0  \n"
     ]
    }
   ],
   "execution_count": 7
  },
  {
   "metadata": {
    "ExecuteTime": {
     "end_time": "2024-11-12T15:14:00.436283Z",
     "start_time": "2024-11-12T15:14:00.432608Z"
    }
   },
   "cell_type": "code",
   "source": "",
   "id": "f2f7aae8b925aa4c",
   "outputs": [],
   "execution_count": 4
  },
  {
   "metadata": {},
   "cell_type": "code",
   "outputs": [],
   "execution_count": null,
   "source": "",
   "id": "a023b1b32e49cabb"
  }
 ],
 "metadata": {
  "kernelspec": {
   "display_name": "Python 3",
   "language": "python",
   "name": "python3"
  },
  "language_info": {
   "codemirror_mode": {
    "name": "ipython",
    "version": 2
   },
   "file_extension": ".py",
   "mimetype": "text/x-python",
   "name": "python",
   "nbconvert_exporter": "python",
   "pygments_lexer": "ipython2",
   "version": "2.7.6"
  }
 },
 "nbformat": 4,
 "nbformat_minor": 5
}
