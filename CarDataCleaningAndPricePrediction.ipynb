{
 "cells": [
  {
   "cell_type": "code",
   "id": "initial_id",
   "metadata": {
    "collapsed": true,
    "ExecuteTime": {
     "end_time": "2024-11-12T15:42:45.589598Z",
     "start_time": "2024-11-12T15:42:45.580751Z"
    }
   },
   "source": [
    "import pandas as pd\n",
    "import numpy as np\n",
    "import datetime\n",
    "import matplotlib.pyplot as plt\n"
   ],
   "outputs": [],
   "execution_count": 17
  },
  {
   "metadata": {
    "ExecuteTime": {
     "end_time": "2024-11-12T15:54:07.426054Z",
     "start_time": "2024-11-12T15:54:06.946610Z"
    }
   },
   "cell_type": "code",
   "source": [
    "cars = pd.read_csv(r\"F:\\PythonPoj\\CarsDatasetCleaning\\pythonProject1\\Car details v3.csv\" , index_col=0)\n",
    "df = cars\n",
    "print(cars.head(5));"
   ],
   "id": "f25afb54952b47b5",
   "outputs": [
    {
     "name": "stdout",
     "output_type": "stream",
     "text": [
      "                              year  selling_price  km_driven    fuel  \\\n",
      "name                                                                   \n",
      "Maruti Swift Dzire VDI        2014         450000     145500  Diesel   \n",
      "Skoda Rapid 1.5 TDI Ambition  2014         370000     120000  Diesel   \n",
      "Honda City 2017-2020 EXi      2006         158000     140000  Petrol   \n",
      "Hyundai i20 Sportz Diesel     2010         225000     127000  Diesel   \n",
      "Maruti Swift VXI BSIII        2007         130000     120000  Petrol   \n",
      "\n",
      "                             seller_type transmission         owner  \\\n",
      "name                                                                  \n",
      "Maruti Swift Dzire VDI        Individual       Manual   First Owner   \n",
      "Skoda Rapid 1.5 TDI Ambition  Individual       Manual  Second Owner   \n",
      "Honda City 2017-2020 EXi      Individual       Manual   Third Owner   \n",
      "Hyundai i20 Sportz Diesel     Individual       Manual   First Owner   \n",
      "Maruti Swift VXI BSIII        Individual       Manual   First Owner   \n",
      "\n",
      "                                 mileage   engine   max_power  \\\n",
      "name                                                            \n",
      "Maruti Swift Dzire VDI         23.4 kmpl  1248 CC      74 bhp   \n",
      "Skoda Rapid 1.5 TDI Ambition  21.14 kmpl  1498 CC  103.52 bhp   \n",
      "Honda City 2017-2020 EXi       17.7 kmpl  1497 CC      78 bhp   \n",
      "Hyundai i20 Sportz Diesel      23.0 kmpl  1396 CC      90 bhp   \n",
      "Maruti Swift VXI BSIII         16.1 kmpl  1298 CC    88.2 bhp   \n",
      "\n",
      "                                                torque  seats  \n",
      "name                                                           \n",
      "Maruti Swift Dzire VDI                  190Nm@ 2000rpm    5.0  \n",
      "Skoda Rapid 1.5 TDI Ambition       250Nm@ 1500-2500rpm    5.0  \n",
      "Honda City 2017-2020 EXi         12.7@ 2,700(kgm@ rpm)    5.0  \n",
      "Hyundai i20 Sportz Diesel     22.4 kgm at 1750-2750rpm    5.0  \n",
      "Maruti Swift VXI BSIII           11.5@ 4,500(kgm@ rpm)    5.0  \n"
     ]
    }
   ],
   "execution_count": 35
  },
  {
   "metadata": {
    "ExecuteTime": {
     "end_time": "2024-11-12T15:19:08.499579Z",
     "start_time": "2024-11-12T15:19:08.360774Z"
    }
   },
   "cell_type": "code",
   "source": [
    "# Checking Null Values\n",
    "print(cars.isnull().sum())"
   ],
   "id": "f2f7aae8b925aa4c",
   "outputs": [
    {
     "name": "stdout",
     "output_type": "stream",
     "text": [
      "year               0\n",
      "selling_price      0\n",
      "km_driven          0\n",
      "fuel               0\n",
      "seller_type        0\n",
      "transmission       0\n",
      "owner              0\n",
      "mileage          221\n",
      "engine           221\n",
      "max_power        215\n",
      "torque           222\n",
      "seats            221\n",
      "dtype: int64\n"
     ]
    }
   ],
   "execution_count": 8
  },
  {
   "metadata": {},
   "cell_type": "markdown",
   "source": "Changing the data types of Engine and Mileage features\n",
   "id": "f4f81b8c183d396b"
  },
  {
   "metadata": {
    "ExecuteTime": {
     "end_time": "2024-11-12T15:31:36.494546Z",
     "start_time": "2024-11-12T15:31:35.494974Z"
    }
   },
   "cell_type": "code",
   "source": [
    "cars[\"engine\"] = cars[\"engine\"].astype(\"string\")\n",
    "cars[\"mileage\"] = cars[\"mileage\"].astype(\"string\")\n",
    "cars[\"max_power\"] = cars[\"max_power\"].astype(\"string\")\n",
    "\n",
    "\n",
    "\n",
    "cars[\"engine\"] = cars[\"engine\"].str.extract(r'(\\d+\\.?\\d*)').astype(float)\n",
    "cars[\"mileage\"] = cars[\"mileage\"].str.extract(r'(\\d+\\.?\\d*)').astype(float)\n",
    "cars[\"max_power\"] = cars[\"max_power\"].str.extract(r'(\\d+\\.?\\d*)').astype(float)\n",
    "\n",
    "print(cars.head(5));"
   ],
   "id": "c587b72de233211e",
   "outputs": [
    {
     "name": "stdout",
     "output_type": "stream",
     "text": [
      "                              year  selling_price  km_driven    fuel  \\\n",
      "name                                                                   \n",
      "Maruti Swift Dzire VDI        2014         450000     145500  Diesel   \n",
      "Skoda Rapid 1.5 TDI Ambition  2014         370000     120000  Diesel   \n",
      "Honda City 2017-2020 EXi      2006         158000     140000  Petrol   \n",
      "Hyundai i20 Sportz Diesel     2010         225000     127000  Diesel   \n",
      "Maruti Swift VXI BSIII        2007         130000     120000  Petrol   \n",
      "\n",
      "                             seller_type transmission         owner  mileage  \\\n",
      "name                                                                           \n",
      "Maruti Swift Dzire VDI        Individual       Manual   First Owner    23.40   \n",
      "Skoda Rapid 1.5 TDI Ambition  Individual       Manual  Second Owner    21.14   \n",
      "Honda City 2017-2020 EXi      Individual       Manual   Third Owner    17.70   \n",
      "Hyundai i20 Sportz Diesel     Individual       Manual   First Owner    23.00   \n",
      "Maruti Swift VXI BSIII        Individual       Manual   First Owner    16.10   \n",
      "\n",
      "                              engine  max_power                    torque  \\\n",
      "name                                                                        \n",
      "Maruti Swift Dzire VDI        1248.0      74.00            190Nm@ 2000rpm   \n",
      "Skoda Rapid 1.5 TDI Ambition  1498.0     103.52       250Nm@ 1500-2500rpm   \n",
      "Honda City 2017-2020 EXi      1497.0      78.00     12.7@ 2,700(kgm@ rpm)   \n",
      "Hyundai i20 Sportz Diesel     1396.0      90.00  22.4 kgm at 1750-2750rpm   \n",
      "Maruti Swift VXI BSIII        1298.0      88.20     11.5@ 4,500(kgm@ rpm)   \n",
      "\n",
      "                              seats  \n",
      "name                                 \n",
      "Maruti Swift Dzire VDI          5.0  \n",
      "Skoda Rapid 1.5 TDI Ambition    5.0  \n",
      "Honda City 2017-2020 EXi        5.0  \n",
      "Hyundai i20 Sportz Diesel       5.0  \n",
      "Maruti Swift VXI BSIII          5.0  \n"
     ]
    }
   ],
   "execution_count": 12
  },
  {
   "metadata": {
    "ExecuteTime": {
     "end_time": "2024-11-12T15:53:27.715264Z",
     "start_time": "2024-11-12T15:53:27.701836Z"
    }
   },
   "cell_type": "code",
   "source": [
    "print(cars.head(5));\n",
    "#print(cars.isnull().sum())"
   ],
   "id": "e35a9b92ac389c93",
   "outputs": [
    {
     "name": "stdout",
     "output_type": "stream",
     "text": [
      "                              selling_price  km_driven    fuel seller_type  \\\n",
      "name                                                                         \n",
      "Maruti Swift Dzire VDI               450000     145500  Diesel  Individual   \n",
      "Skoda Rapid 1.5 TDI Ambition         370000     120000  Diesel  Individual   \n",
      "Honda City 2017-2020 EXi             158000     140000  Petrol  Individual   \n",
      "Hyundai i20 Sportz Diesel            225000     127000  Diesel  Individual   \n",
      "Maruti Swift VXI BSIII               130000     120000  Petrol  Individual   \n",
      "\n",
      "                             transmission         owner  mileage  engine  \\\n",
      "name                                                                       \n",
      "Maruti Swift Dzire VDI             Manual   First Owner    23.40  1248.0   \n",
      "Skoda Rapid 1.5 TDI Ambition       Manual  Second Owner    21.14  1498.0   \n",
      "Honda City 2017-2020 EXi           Manual   Third Owner    17.70  1497.0   \n",
      "Hyundai i20 Sportz Diesel          Manual   First Owner    23.00  1396.0   \n",
      "Maruti Swift VXI BSIII             Manual   First Owner    16.10  1298.0   \n",
      "\n",
      "                              max_power                    torque  seats  \n",
      "name                                                                      \n",
      "Maruti Swift Dzire VDI            74.00            190Nm@ 2000rpm    5.0  \n",
      "Skoda Rapid 1.5 TDI Ambition     103.52       250Nm@ 1500-2500rpm    5.0  \n",
      "Honda City 2017-2020 EXi          78.00     12.7@ 2,700(kgm@ rpm)    5.0  \n",
      "Hyundai i20 Sportz Diesel         90.00  22.4 kgm at 1750-2750rpm    5.0  \n",
      "Maruti Swift VXI BSIII            88.20     11.5@ 4,500(kgm@ rpm)    5.0  \n"
     ]
    }
   ],
   "execution_count": 34
  },
  {
   "metadata": {},
   "cell_type": "markdown",
   "source": "Creating Age Col",
   "id": "31ce2e2b155a8adf"
  },
  {
   "metadata": {},
   "cell_type": "markdown",
   "source": "",
   "id": "af91b34f8db26be9"
  },
  {
   "metadata": {
    "ExecuteTime": {
     "end_time": "2024-11-12T15:56:29.282205Z",
     "start_time": "2024-11-12T15:56:29.265452Z"
    }
   },
   "cell_type": "code",
   "source": [
    "cars[\"age\"] = datetime.datetime.now().year - cars[\"year\"]\n",
    "cars.drop([\"year\"], axis=1, inplace=True);\n",
    "print(cars.head(5));"
   ],
   "id": "fcedb268a49e528d",
   "outputs": [
    {
     "name": "stdout",
     "output_type": "stream",
     "text": [
      "                              selling_price  km_driven    fuel seller_type  \\\n",
      "name                                                                         \n",
      "Maruti Swift Dzire VDI               450000     145500  Diesel  Individual   \n",
      "Skoda Rapid 1.5 TDI Ambition         370000     120000  Diesel  Individual   \n",
      "Honda City 2017-2020 EXi             158000     140000  Petrol  Individual   \n",
      "Hyundai i20 Sportz Diesel            225000     127000  Diesel  Individual   \n",
      "Maruti Swift VXI BSIII               130000     120000  Petrol  Individual   \n",
      "\n",
      "                             transmission         owner     mileage   engine  \\\n",
      "name                                                                           \n",
      "Maruti Swift Dzire VDI             Manual   First Owner   23.4 kmpl  1248 CC   \n",
      "Skoda Rapid 1.5 TDI Ambition       Manual  Second Owner  21.14 kmpl  1498 CC   \n",
      "Honda City 2017-2020 EXi           Manual   Third Owner   17.7 kmpl  1497 CC   \n",
      "Hyundai i20 Sportz Diesel          Manual   First Owner   23.0 kmpl  1396 CC   \n",
      "Maruti Swift VXI BSIII             Manual   First Owner   16.1 kmpl  1298 CC   \n",
      "\n",
      "                               max_power                    torque  seats  age  \n",
      "name                                                                            \n",
      "Maruti Swift Dzire VDI            74 bhp            190Nm@ 2000rpm    5.0   10  \n",
      "Skoda Rapid 1.5 TDI Ambition  103.52 bhp       250Nm@ 1500-2500rpm    5.0   10  \n",
      "Honda City 2017-2020 EXi          78 bhp     12.7@ 2,700(kgm@ rpm)    5.0   18  \n",
      "Hyundai i20 Sportz Diesel         90 bhp  22.4 kgm at 1750-2750rpm    5.0   14  \n",
      "Maruti Swift VXI BSIII          88.2 bhp     11.5@ 4,500(kgm@ rpm)    5.0   17  \n"
     ]
    }
   ],
   "execution_count": 39
  },
  {
   "metadata": {},
   "cell_type": "markdown",
   "source": "Droppin some useless Col's",
   "id": "f4e7cad4f6e98e9d"
  },
  {
   "metadata": {
    "ExecuteTime": {
     "end_time": "2024-11-12T15:58:43.192281Z",
     "start_time": "2024-11-12T15:58:43.185834Z"
    }
   },
   "cell_type": "code",
   "source": [
    "cars.drop([\"torque\"], axis = 1, inplace = True)\n",
    "print(cars.columns);"
   ],
   "id": "c038e98f76decdd8",
   "outputs": [
    {
     "name": "stdout",
     "output_type": "stream",
     "text": [
      "Index(['selling_price', 'km_driven', 'fuel', 'seller_type', 'transmission',\n",
      "       'owner', 'mileage', 'engine', 'max_power', 'seats', 'age'],\n",
      "      dtype='object')\n"
     ]
    }
   ],
   "execution_count": 46
  },
  {
   "metadata": {
    "ExecuteTime": {
     "end_time": "2024-11-12T16:01:39.476285Z",
     "start_time": "2024-11-12T16:01:39.457792Z"
    }
   },
   "cell_type": "code",
   "source": "print(cars.isnull().sum())",
   "id": "a1e58264d3de1043",
   "outputs": [
    {
     "name": "stdout",
     "output_type": "stream",
     "text": [
      "selling_price      0\n",
      "km_driven          0\n",
      "fuel               0\n",
      "seller_type        0\n",
      "transmission       0\n",
      "owner              0\n",
      "mileage          221\n",
      "engine           221\n",
      "max_power        215\n",
      "seats            221\n",
      "age                0\n",
      "dtype: int64\n"
     ]
    }
   ],
   "execution_count": 47
  },
  {
   "metadata": {},
   "cell_type": "markdown",
   "source": "Tracking Changes",
   "id": "944b8cc82def0174"
  },
  {
   "metadata": {
    "ExecuteTime": {
     "end_time": "2024-11-12T16:03:42.753418Z",
     "start_time": "2024-11-12T16:03:42.166561Z"
    }
   },
   "cell_type": "code",
   "source": "cars.info()",
   "id": "5b166badc20a6784",
   "outputs": [
    {
     "name": "stdout",
     "output_type": "stream",
     "text": [
      "<class 'pandas.core.frame.DataFrame'>\n",
      "Index: 8128 entries, Maruti Swift Dzire VDI to Tata Indigo CR4\n",
      "Data columns (total 11 columns):\n",
      " #   Column         Non-Null Count  Dtype  \n",
      "---  ------         --------------  -----  \n",
      " 0   selling_price  8128 non-null   int64  \n",
      " 1   km_driven      8128 non-null   int64  \n",
      " 2   fuel           8128 non-null   object \n",
      " 3   seller_type    8128 non-null   object \n",
      " 4   transmission   8128 non-null   object \n",
      " 5   owner          8128 non-null   object \n",
      " 6   mileage        7907 non-null   object \n",
      " 7   engine         7907 non-null   object \n",
      " 8   max_power      7913 non-null   object \n",
      " 9   seats          7907 non-null   float64\n",
      " 10  age            8128 non-null   int64  \n",
      "dtypes: float64(1), int64(3), object(7)\n",
      "memory usage: 762.0+ KB\n"
     ]
    }
   ],
   "execution_count": 48
  },
  {
   "metadata": {
    "ExecuteTime": {
     "end_time": "2024-11-12T16:04:48.997927Z",
     "start_time": "2024-11-12T16:04:48.539139Z"
    }
   },
   "cell_type": "code",
   "source": [
    "cars[\"engine\"] = cars[\"engine\"].str.extract(r'(\\d+\\.?\\d*)').astype(float)\n",
    "cars[\"mileage\"] = cars[\"mileage\"].str.extract(r'(\\d+\\.?\\d*)').astype(float)\n",
    "cars[\"max_power\"] = cars[\"max_power\"].str.extract(r'(\\d+\\.?\\d*)').astype(float)\n"
   ],
   "id": "d5c809f468682a57",
   "outputs": [],
   "execution_count": 49
  },
  {
   "metadata": {
    "ExecuteTime": {
     "end_time": "2024-11-12T16:05:00.559471Z",
     "start_time": "2024-11-12T16:05:00.532825Z"
    }
   },
   "cell_type": "code",
   "source": "cars.info()",
   "id": "259d7279e4c2fe45",
   "outputs": [
    {
     "name": "stdout",
     "output_type": "stream",
     "text": [
      "<class 'pandas.core.frame.DataFrame'>\n",
      "Index: 8128 entries, Maruti Swift Dzire VDI to Tata Indigo CR4\n",
      "Data columns (total 11 columns):\n",
      " #   Column         Non-Null Count  Dtype  \n",
      "---  ------         --------------  -----  \n",
      " 0   selling_price  8128 non-null   int64  \n",
      " 1   km_driven      8128 non-null   int64  \n",
      " 2   fuel           8128 non-null   object \n",
      " 3   seller_type    8128 non-null   object \n",
      " 4   transmission   8128 non-null   object \n",
      " 5   owner          8128 non-null   object \n",
      " 6   mileage        7907 non-null   float64\n",
      " 7   engine         7907 non-null   float64\n",
      " 8   max_power      7912 non-null   float64\n",
      " 9   seats          7907 non-null   float64\n",
      " 10  age            8128 non-null   int64  \n",
      "dtypes: float64(4), int64(3), object(4)\n",
      "memory usage: 762.0+ KB\n"
     ]
    }
   ],
   "execution_count": 50
  },
  {
   "metadata": {
    "ExecuteTime": {
     "end_time": "2024-11-12T16:05:11.492443Z",
     "start_time": "2024-11-12T16:05:11.475596Z"
    }
   },
   "cell_type": "code",
   "source": "print(cars.head(5));",
   "id": "170f8aca1662307e",
   "outputs": [
    {
     "name": "stdout",
     "output_type": "stream",
     "text": [
      "                              selling_price  km_driven    fuel seller_type  \\\n",
      "name                                                                         \n",
      "Maruti Swift Dzire VDI               450000     145500  Diesel  Individual   \n",
      "Skoda Rapid 1.5 TDI Ambition         370000     120000  Diesel  Individual   \n",
      "Honda City 2017-2020 EXi             158000     140000  Petrol  Individual   \n",
      "Hyundai i20 Sportz Diesel            225000     127000  Diesel  Individual   \n",
      "Maruti Swift VXI BSIII               130000     120000  Petrol  Individual   \n",
      "\n",
      "                             transmission         owner  mileage  engine  \\\n",
      "name                                                                       \n",
      "Maruti Swift Dzire VDI             Manual   First Owner    23.40  1248.0   \n",
      "Skoda Rapid 1.5 TDI Ambition       Manual  Second Owner    21.14  1498.0   \n",
      "Honda City 2017-2020 EXi           Manual   Third Owner    17.70  1497.0   \n",
      "Hyundai i20 Sportz Diesel          Manual   First Owner    23.00  1396.0   \n",
      "Maruti Swift VXI BSIII             Manual   First Owner    16.10  1298.0   \n",
      "\n",
      "                              max_power  seats  age  \n",
      "name                                                 \n",
      "Maruti Swift Dzire VDI            74.00    5.0   10  \n",
      "Skoda Rapid 1.5 TDI Ambition     103.52    5.0   10  \n",
      "Honda City 2017-2020 EXi          78.00    5.0   18  \n",
      "Hyundai i20 Sportz Diesel         90.00    5.0   14  \n",
      "Maruti Swift VXI BSIII            88.20    5.0   17  \n"
     ]
    }
   ],
   "execution_count": 51
  },
  {
   "metadata": {},
   "cell_type": "markdown",
   "source": [
    "Filling Null or Removing Them\n",
    " "
   ],
   "id": "1b608619da9b99e1"
  },
  {
   "metadata": {
    "ExecuteTime": {
     "end_time": "2024-11-12T16:13:26.389596Z",
     "start_time": "2024-11-12T16:13:26.372576Z"
    }
   },
   "cell_type": "code",
   "source": [
    "numericCols = [col for col in cars.select_dtypes(include=['number', 'int', 'float'])]\n",
    "stringCols = [col for col in cars.select_dtypes(exclude =['number', 'int', 'float'])]\n",
    "print(numericCols)\n",
    "print(stringCols)\n"
   ],
   "id": "cf821d192862e6f1",
   "outputs": [
    {
     "name": "stdout",
     "output_type": "stream",
     "text": [
      "['selling_price', 'km_driven', 'mileage', 'engine', 'max_power', 'seats', 'age']\n",
      "['fuel', 'seller_type', 'transmission', 'owner']\n"
     ]
    }
   ],
   "execution_count": 55
  },
  {
   "metadata": {
    "ExecuteTime": {
     "end_time": "2024-11-12T16:13:48.151344Z",
     "start_time": "2024-11-12T16:13:48.129502Z"
    }
   },
   "cell_type": "code",
   "source": [
    "for col in numericCols:\n",
    "    cars[col] = cars[col].fillna(cars[col].mean());\n",
    "    \n",
    "for col in stringCols:\n",
    "    cars[col] = cars[col].fillna(\"missing\");\n",
    "\n",
    "print(cars.head(5));"
   ],
   "id": "7696bd09d04bb174",
   "outputs": [
    {
     "name": "stdout",
     "output_type": "stream",
     "text": [
      "                              selling_price  km_driven    fuel seller_type  \\\n",
      "name                                                                         \n",
      "Maruti Swift Dzire VDI               450000     145500  Diesel  Individual   \n",
      "Skoda Rapid 1.5 TDI Ambition         370000     120000  Diesel  Individual   \n",
      "Honda City 2017-2020 EXi             158000     140000  Petrol  Individual   \n",
      "Hyundai i20 Sportz Diesel            225000     127000  Diesel  Individual   \n",
      "Maruti Swift VXI BSIII               130000     120000  Petrol  Individual   \n",
      "\n",
      "                             transmission         owner  mileage  engine  \\\n",
      "name                                                                       \n",
      "Maruti Swift Dzire VDI             Manual   First Owner    23.40  1248.0   \n",
      "Skoda Rapid 1.5 TDI Ambition       Manual  Second Owner    21.14  1498.0   \n",
      "Honda City 2017-2020 EXi           Manual   Third Owner    17.70  1497.0   \n",
      "Hyundai i20 Sportz Diesel          Manual   First Owner    23.00  1396.0   \n",
      "Maruti Swift VXI BSIII             Manual   First Owner    16.10  1298.0   \n",
      "\n",
      "                              max_power  seats  age  \n",
      "name                                                 \n",
      "Maruti Swift Dzire VDI            74.00    5.0   10  \n",
      "Skoda Rapid 1.5 TDI Ambition     103.52    5.0   10  \n",
      "Honda City 2017-2020 EXi          78.00    5.0   18  \n",
      "Hyundai i20 Sportz Diesel         90.00    5.0   14  \n",
      "Maruti Swift VXI BSIII            88.20    5.0   17  \n"
     ]
    }
   ],
   "execution_count": 56
  },
  {
   "metadata": {
    "ExecuteTime": {
     "end_time": "2024-11-12T16:20:25.215498Z",
     "start_time": "2024-11-12T16:20:25.185853Z"
    }
   },
   "cell_type": "code",
   "source": "print(cars.info())",
   "id": "49bbe2e86adbe1b9",
   "outputs": [
    {
     "name": "stdout",
     "output_type": "stream",
     "text": [
      "<class 'pandas.core.frame.DataFrame'>\n",
      "Index: 8128 entries, Maruti Swift Dzire VDI to Tata Indigo CR4\n",
      "Data columns (total 11 columns):\n",
      " #   Column         Non-Null Count  Dtype  \n",
      "---  ------         --------------  -----  \n",
      " 0   selling_price  8128 non-null   int64  \n",
      " 1   km_driven      8128 non-null   int64  \n",
      " 2   fuel           8128 non-null   object \n",
      " 3   seller_type    8128 non-null   object \n",
      " 4   transmission   8128 non-null   object \n",
      " 5   owner          8128 non-null   object \n",
      " 6   mileage        8128 non-null   float64\n",
      " 7   engine         8128 non-null   float64\n",
      " 8   max_power      8128 non-null   float64\n",
      " 9   seats          8128 non-null   float64\n",
      " 10  age            8128 non-null   int64  \n",
      "dtypes: float64(4), int64(3), object(4)\n",
      "memory usage: 762.0+ KB\n",
      "None\n"
     ]
    }
   ],
   "execution_count": 59
  },
  {
   "metadata": {
    "ExecuteTime": {
     "end_time": "2024-11-12T16:18:55.347228Z",
     "start_time": "2024-11-12T16:18:55.311336Z"
    }
   },
   "cell_type": "code",
   "source": "print(cars.head(5))",
   "id": "b8471dca7ac4838b",
   "outputs": [
    {
     "name": "stdout",
     "output_type": "stream",
     "text": [
      "                              selling_price  km_driven    fuel seller_type  \\\n",
      "name                                                                         \n",
      "Maruti Swift Dzire VDI               450000     145500  Diesel  Individual   \n",
      "Skoda Rapid 1.5 TDI Ambition         370000     120000  Diesel  Individual   \n",
      "Honda City 2017-2020 EXi             158000     140000  Petrol  Individual   \n",
      "Hyundai i20 Sportz Diesel            225000     127000  Diesel  Individual   \n",
      "Maruti Swift VXI BSIII               130000     120000  Petrol  Individual   \n",
      "\n",
      "                             transmission         owner  mileage  engine  \\\n",
      "name                                                                       \n",
      "Maruti Swift Dzire VDI             Manual   First Owner    23.40  1248.0   \n",
      "Skoda Rapid 1.5 TDI Ambition       Manual  Second Owner    21.14  1498.0   \n",
      "Honda City 2017-2020 EXi           Manual   Third Owner    17.70  1497.0   \n",
      "Hyundai i20 Sportz Diesel          Manual   First Owner    23.00  1396.0   \n",
      "Maruti Swift VXI BSIII             Manual   First Owner    16.10  1298.0   \n",
      "\n",
      "                              max_power  seats  age  \n",
      "name                                                 \n",
      "Maruti Swift Dzire VDI            74.00    5.0   10  \n",
      "Skoda Rapid 1.5 TDI Ambition     103.52    5.0   10  \n",
      "Honda City 2017-2020 EXi          78.00    5.0   18  \n",
      "Hyundai i20 Sportz Diesel         90.00    5.0   14  \n",
      "Maruti Swift VXI BSIII            88.20    5.0   17  \n"
     ]
    }
   ],
   "execution_count": 58
  },
  {
   "metadata": {},
   "cell_type": "code",
   "outputs": [],
   "execution_count": null,
   "source": "",
   "id": "7e4e7ff40686f7d0"
  }
 ],
 "metadata": {
  "kernelspec": {
   "display_name": "Python 3",
   "language": "python",
   "name": "python3"
  },
  "language_info": {
   "codemirror_mode": {
    "name": "ipython",
    "version": 2
   },
   "file_extension": ".py",
   "mimetype": "text/x-python",
   "name": "python",
   "nbconvert_exporter": "python",
   "pygments_lexer": "ipython2",
   "version": "2.7.6"
  }
 },
 "nbformat": 4,
 "nbformat_minor": 5
}
