{
 "cells": [
  {
   "cell_type": "code",
   "id": "initial_id",
   "metadata": {
    "collapsed": true,
    "ExecuteTime": {
     "end_time": "2024-11-12T15:13:55.164640Z",
     "start_time": "2024-11-12T15:13:44.605751Z"
    }
   },
   "source": [
    "import pandas as pd\n",
    "import numpy as np"
   ],
   "outputs": [],
   "execution_count": 3
  },
  {
   "metadata": {
    "ExecuteTime": {
     "end_time": "2024-11-12T15:14:42.426651Z",
     "start_time": "2024-11-12T15:14:42.369957Z"
    }
   },
   "cell_type": "code",
   "source": [
    "cars = pd.read_csv(r\"F:\\PythonPoj\\CarsDatasetCleaning\\pythonProject1\\Car details v3.csv\" , index_col=0)\n",
    "print(cars.head(5));"
   ],
   "id": "f25afb54952b47b5",
   "outputs": [
    {
     "name": "stdout",
     "output_type": "stream",
     "text": [
      "                              year  selling_price  km_driven    fuel  \\\n",
      "name                                                                   \n",
      "Maruti Swift Dzire VDI        2014         450000     145500  Diesel   \n",
      "Skoda Rapid 1.5 TDI Ambition  2014         370000     120000  Diesel   \n",
      "Honda City 2017-2020 EXi      2006         158000     140000  Petrol   \n",
      "Hyundai i20 Sportz Diesel     2010         225000     127000  Diesel   \n",
      "Maruti Swift VXI BSIII        2007         130000     120000  Petrol   \n",
      "\n",
      "                             seller_type transmission         owner  \\\n",
      "name                                                                  \n",
      "Maruti Swift Dzire VDI        Individual       Manual   First Owner   \n",
      "Skoda Rapid 1.5 TDI Ambition  Individual       Manual  Second Owner   \n",
      "Honda City 2017-2020 EXi      Individual       Manual   Third Owner   \n",
      "Hyundai i20 Sportz Diesel     Individual       Manual   First Owner   \n",
      "Maruti Swift VXI BSIII        Individual       Manual   First Owner   \n",
      "\n",
      "                                 mileage   engine   max_power  \\\n",
      "name                                                            \n",
      "Maruti Swift Dzire VDI         23.4 kmpl  1248 CC      74 bhp   \n",
      "Skoda Rapid 1.5 TDI Ambition  21.14 kmpl  1498 CC  103.52 bhp   \n",
      "Honda City 2017-2020 EXi       17.7 kmpl  1497 CC      78 bhp   \n",
      "Hyundai i20 Sportz Diesel      23.0 kmpl  1396 CC      90 bhp   \n",
      "Maruti Swift VXI BSIII         16.1 kmpl  1298 CC    88.2 bhp   \n",
      "\n",
      "                                                torque  seats  \n",
      "name                                                           \n",
      "Maruti Swift Dzire VDI                  190Nm@ 2000rpm    5.0  \n",
      "Skoda Rapid 1.5 TDI Ambition       250Nm@ 1500-2500rpm    5.0  \n",
      "Honda City 2017-2020 EXi         12.7@ 2,700(kgm@ rpm)    5.0  \n",
      "Hyundai i20 Sportz Diesel     22.4 kgm at 1750-2750rpm    5.0  \n",
      "Maruti Swift VXI BSIII           11.5@ 4,500(kgm@ rpm)    5.0  \n"
     ]
    }
   ],
   "execution_count": 7
  },
  {
   "metadata": {
    "ExecuteTime": {
     "end_time": "2024-11-12T15:19:08.499579Z",
     "start_time": "2024-11-12T15:19:08.360774Z"
    }
   },
   "cell_type": "code",
   "source": [
    "# Checking Null Values\n",
    "print(cars.isnull().sum())"
   ],
   "id": "f2f7aae8b925aa4c",
   "outputs": [
    {
     "name": "stdout",
     "output_type": "stream",
     "text": [
      "year               0\n",
      "selling_price      0\n",
      "km_driven          0\n",
      "fuel               0\n",
      "seller_type        0\n",
      "transmission       0\n",
      "owner              0\n",
      "mileage          221\n",
      "engine           221\n",
      "max_power        215\n",
      "torque           222\n",
      "seats            221\n",
      "dtype: int64\n"
     ]
    }
   ],
   "execution_count": 8
  },
  {
   "metadata": {},
   "cell_type": "markdown",
   "source": "Changing the data types of Engine and Mileage features\n",
   "id": "f4f81b8c183d396b"
  },
  {
   "metadata": {
    "ExecuteTime": {
     "end_time": "2024-11-12T15:26:28.536156Z",
     "start_time": "2024-11-12T15:26:28.338346Z"
    }
   },
   "cell_type": "code",
   "source": [
    "cars[\"engine\"] = cars[\"engine\"].astype(\"string\")\n",
    "cars[\"mileage\"] = cars[\"mileage\"].astype(\"string\")\n",
    "cars[\"max_power\"] = cars[\"max_power\"].astype(\"string\")\n",
    "\n",
    "\n",
    "\n",
    "cars[\"engine\"] = cars[\"engine\"].str.extract(r'(\\d+\\.?\\d*)').astype(float)\n",
    "cars[\"mileage\"] = cars[\"mileage\"].str.extract(r'(\\d+\\.?\\d*)').astype(float)\n",
    "\n",
    "\n",
    "print(cars.head(5));"
   ],
   "id": "c587b72de233211e",
   "outputs": [
    {
     "name": "stdout",
     "output_type": "stream",
     "text": [
      "                              year  selling_price  km_driven    fuel  \\\n",
      "name                                                                   \n",
      "Maruti Swift Dzire VDI        2014         450000     145500  Diesel   \n",
      "Skoda Rapid 1.5 TDI Ambition  2014         370000     120000  Diesel   \n",
      "Honda City 2017-2020 EXi      2006         158000     140000  Petrol   \n",
      "Hyundai i20 Sportz Diesel     2010         225000     127000  Diesel   \n",
      "Maruti Swift VXI BSIII        2007         130000     120000  Petrol   \n",
      "\n",
      "                             seller_type transmission         owner  mileage  \\\n",
      "name                                                                           \n",
      "Maruti Swift Dzire VDI        Individual       Manual   First Owner    23.40   \n",
      "Skoda Rapid 1.5 TDI Ambition  Individual       Manual  Second Owner    21.14   \n",
      "Honda City 2017-2020 EXi      Individual       Manual   Third Owner    17.70   \n",
      "Hyundai i20 Sportz Diesel     Individual       Manual   First Owner    23.00   \n",
      "Maruti Swift VXI BSIII        Individual       Manual   First Owner    16.10   \n",
      "\n",
      "                              engine   max_power                    torque  \\\n",
      "name                                                                         \n",
      "Maruti Swift Dzire VDI        1248.0      74 bhp            190Nm@ 2000rpm   \n",
      "Skoda Rapid 1.5 TDI Ambition  1498.0  103.52 bhp       250Nm@ 1500-2500rpm   \n",
      "Honda City 2017-2020 EXi      1497.0      78 bhp     12.7@ 2,700(kgm@ rpm)   \n",
      "Hyundai i20 Sportz Diesel     1396.0      90 bhp  22.4 kgm at 1750-2750rpm   \n",
      "Maruti Swift VXI BSIII        1298.0    88.2 bhp     11.5@ 4,500(kgm@ rpm)   \n",
      "\n",
      "                              seats  \n",
      "name                                 \n",
      "Maruti Swift Dzire VDI          5.0  \n",
      "Skoda Rapid 1.5 TDI Ambition    5.0  \n",
      "Honda City 2017-2020 EXi        5.0  \n",
      "Hyundai i20 Sportz Diesel       5.0  \n",
      "Maruti Swift VXI BSIII          5.0  \n"
     ]
    }
   ],
   "execution_count": 11
  },
  {
   "metadata": {},
   "cell_type": "code",
   "outputs": [],
   "execution_count": null,
   "source": "",
   "id": "e35a9b92ac389c93"
  }
 ],
 "metadata": {
  "kernelspec": {
   "display_name": "Python 3",
   "language": "python",
   "name": "python3"
  },
  "language_info": {
   "codemirror_mode": {
    "name": "ipython",
    "version": 2
   },
   "file_extension": ".py",
   "mimetype": "text/x-python",
   "name": "python",
   "nbconvert_exporter": "python",
   "pygments_lexer": "ipython2",
   "version": "2.7.6"
  }
 },
 "nbformat": 4,
 "nbformat_minor": 5
}
